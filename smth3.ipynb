{
 "cells": [
  {
   "cell_type": "code",
   "execution_count": 1,
   "id": "ce3c7bad",
   "metadata": {},
   "outputs": [],
   "source": [
    "import pandas as pd\n",
    "import numpy as np\n",
    "import nltk\n",
    "import re\n",
    "from bs4 import BeautifulSoup\n",
    "from nltk.corpus import stopwords\n",
    "stop = stopwords.words('russian')\n",
    "from sklearn.model_selection import train_test_split\n",
    "from sklearn.feature_extraction.text import TfidfVectorizer\n",
    "from sklearn.svm import LinearSVC\n",
    "from sklearn.metrics import classification_report\n",
    "from sklearn.metrics import confusion_matrix"
   ]
  },
  {
   "cell_type": "code",
   "execution_count": 2,
   "id": "288db950",
   "metadata": {},
   "outputs": [],
   "source": [
    "df =  pd.read_csv(r\"C:\\Users\\coolz\\assignments\\data.csv\", names = ['Review', 'Rating'], sep=',')\n",
    "df = df.dropna(how='any',axis=0)\n",
    "np.random.seed(37)\n",
    "df = df.drop_duplicates(subset=['Review', 'Rating'], keep=False)\n",
    "df = df.reset_index(drop=True)"
   ]
  },
  {
   "cell_type": "code",
   "execution_count": 3,
   "id": "d285068a",
   "metadata": {},
   "outputs": [],
   "source": [
    "df['Rating']=df['Rating'].astype(int)\n",
    "df=df[df['Rating']!=3]\n",
    "df['label']=np.where(df['Rating']>=3,1,0)"
   ]
  },
  {
   "cell_type": "code",
   "execution_count": 4,
   "id": "01b939d4",
   "metadata": {},
   "outputs": [
    {
     "data": {
      "text/plain": [
       "5    107885\n",
       "4     50785\n",
       "2     16121\n",
       "1     15511\n",
       "Name: Rating, dtype: int64"
      ]
     },
     "execution_count": 4,
     "metadata": {},
     "output_type": "execute_result"
    }
   ],
   "source": [
    "df['Rating'].value_counts()"
   ]
  },
  {
   "cell_type": "code",
   "execution_count": 24,
   "id": "b2bf08ec",
   "metadata": {},
   "outputs": [
    {
     "data": {
      "text/plain": [
       "1    150000\n",
       "0     30000\n",
       "Name: label, dtype: int64"
      ]
     },
     "metadata": {},
     "output_type": "display_data"
    },
    {
     "data": {
      "text/html": [
       "<div>\n",
       "<style scoped>\n",
       "    .dataframe tbody tr th:only-of-type {\n",
       "        vertical-align: middle;\n",
       "    }\n",
       "\n",
       "    .dataframe tbody tr th {\n",
       "        vertical-align: top;\n",
       "    }\n",
       "\n",
       "    .dataframe thead th {\n",
       "        text-align: right;\n",
       "    }\n",
       "</style>\n",
       "<table border=\"1\" class=\"dataframe\">\n",
       "  <thead>\n",
       "    <tr style=\"text-align: right;\">\n",
       "      <th></th>\n",
       "      <th>Review</th>\n",
       "      <th>Rating</th>\n",
       "      <th>label</th>\n",
       "    </tr>\n",
       "  </thead>\n",
       "  <tbody>\n",
       "    <tr>\n",
       "      <th>0</th>\n",
       "      <td>купила телефон у офицалов 2 апреля 2011 года, ...</td>\n",
       "      <td>2</td>\n",
       "      <td>0</td>\n",
       "    </tr>\n",
       "    <tr>\n",
       "      <th>1</th>\n",
       "      <td>может мне попалась именно бракованная модельне...</td>\n",
       "      <td>1</td>\n",
       "      <td>0</td>\n",
       "    </tr>\n",
       "    <tr>\n",
       "      <th>2</th>\n",
       "      <td>Покупал для игр , интернета , видео . Игры - ,...</td>\n",
       "      <td>2</td>\n",
       "      <td>0</td>\n",
       "    </tr>\n",
       "    <tr>\n",
       "      <th>3</th>\n",
       "      <td>НЕ БЕРИТЕ!!! до тех пор пока не сделают съёмну...</td>\n",
       "      <td>1</td>\n",
       "      <td>0</td>\n",
       "    </tr>\n",
       "    <tr>\n",
       "      <th>4</th>\n",
       "      <td>цена-качесво 100%. если решат проблему с тупен...</td>\n",
       "      <td>2</td>\n",
       "      <td>0</td>\n",
       "    </tr>\n",
       "    <tr>\n",
       "      <th>...</th>\n",
       "      <td>...</td>\n",
       "      <td>...</td>\n",
       "      <td>...</td>\n",
       "    </tr>\n",
       "    <tr>\n",
       "      <th>179995</th>\n",
       "      <td>Относительно \"небольшой\" для ребенка размер, т...</td>\n",
       "      <td>5</td>\n",
       "      <td>1</td>\n",
       "    </tr>\n",
       "    <tr>\n",
       "      <th>179996</th>\n",
       "      <td>Покупался в подарок, перед вручением попользов...</td>\n",
       "      <td>5</td>\n",
       "      <td>1</td>\n",
       "    </tr>\n",
       "    <tr>\n",
       "      <th>179997</th>\n",
       "      <td>Пользуюсь смартфоном 3 недели. Ждал этого смар...</td>\n",
       "      <td>5</td>\n",
       "      <td>1</td>\n",
       "    </tr>\n",
       "    <tr>\n",
       "      <th>179998</th>\n",
       "      <td>плохо что сильно завязан на сотовый интернет. ...</td>\n",
       "      <td>4</td>\n",
       "      <td>1</td>\n",
       "    </tr>\n",
       "    <tr>\n",
       "      <th>179999</th>\n",
       "      <td>Короч!!!!!!!! народ покупаем эту модель!!!!!</td>\n",
       "      <td>5</td>\n",
       "      <td>1</td>\n",
       "    </tr>\n",
       "  </tbody>\n",
       "</table>\n",
       "<p>180000 rows × 3 columns</p>\n",
       "</div>"
      ],
      "text/plain": [
       "                                                   Review  Rating  label\n",
       "0       купила телефон у офицалов 2 апреля 2011 года, ...       2      0\n",
       "1       может мне попалась именно бракованная модельне...       1      0\n",
       "2       Покупал для игр , интернета , видео . Игры - ,...       2      0\n",
       "3       НЕ БЕРИТЕ!!! до тех пор пока не сделают съёмну...       1      0\n",
       "4       цена-качесво 100%. если решат проблему с тупен...       2      0\n",
       "...                                                   ...     ...    ...\n",
       "179995  Относительно \"небольшой\" для ребенка размер, т...       5      1\n",
       "179996  Покупался в подарок, перед вручением попользов...       5      1\n",
       "179997  Пользуюсь смартфоном 3 недели. Ждал этого смар...       5      1\n",
       "179998  плохо что сильно завязан на сотовый интернет. ...       4      1\n",
       "179999       Короч!!!!!!!! народ покупаем эту модель!!!!!       5      1\n",
       "\n",
       "[180000 rows x 3 columns]"
      ]
     },
     "execution_count": 24,
     "metadata": {},
     "output_type": "execute_result"
    }
   ],
   "source": [
    "df = df.sample(frac=1).reset_index(drop=True) #shuffle\n",
    "data=df[df['label']==0][:30000]\n",
    "data=data.append(df[df['label']==1][:150000])\n",
    "data = data.reset_index(drop=True)\n",
    "display(data['label'].value_counts())\n",
    "data"
   ]
  },
  {
   "cell_type": "code",
   "execution_count": 25,
   "id": "98f6ef22",
   "metadata": {},
   "outputs": [
    {
     "name": "stderr",
     "output_type": "stream",
     "text": [
      "C:\\Users\\coolz\\anaconda3\\lib\\site-packages\\bs4\\__init__.py:431: MarkupResemblesLocatorWarning: \"http://www.youtube.com/watch?v=o6gonrvww2y&feature=youtu.be\" looks like a URL. Beautiful Soup is not an HTTP client. You should probably use an HTTP client like requests to get the document behind the URL, and feed that document to Beautiful Soup.\n",
      "  warnings.warn(\n",
      "C:\\Users\\coolz\\anaconda3\\lib\\site-packages\\bs4\\__init__.py:337: MarkupResemblesLocatorWarning: \"........................... ............................ ............................ ................................\" looks like a directory name, not markup. You may want to open a file found in this directory and pass the filehandle into Beautiful Soup.\n",
      "  warnings.warn(\n",
      "C:\\Users\\coolz\\anaconda3\\lib\\site-packages\\bs4\\__init__.py:337: MarkupResemblesLocatorWarning: \"..\" looks like a directory name, not markup. You may want to open a file found in this directory and pass the filehandle into Beautiful Soup.\n",
      "  warnings.warn(\n",
      "C:\\Users\\coolz\\anaconda3\\lib\\site-packages\\bs4\\__init__.py:337: MarkupResemblesLocatorWarning: \"...\" looks like a directory name, not markup. You may want to open a file found in this directory and pass the filehandle into Beautiful Soup.\n",
      "  warnings.warn(\n",
      "C:\\Users\\coolz\\anaconda3\\lib\\site-packages\\bs4\\__init__.py:337: MarkupResemblesLocatorWarning: \"...........\" looks like a directory name, not markup. You may want to open a file found in this directory and pass the filehandle into Beautiful Soup.\n",
      "  warnings.warn(\n",
      "C:\\Users\\coolz\\anaconda3\\lib\\site-packages\\bs4\\__init__.py:337: MarkupResemblesLocatorWarning: \"....\" looks like a directory name, not markup. You may want to open a file found in this directory and pass the filehandle into Beautiful Soup.\n",
      "  warnings.warn(\n",
      "C:\\Users\\coolz\\anaconda3\\lib\\site-packages\\bs4\\__init__.py:337: MarkupResemblesLocatorWarning: \".....\" looks like a directory name, not markup. You may want to open a file found in this directory and pass the filehandle into Beautiful Soup.\n",
      "  warnings.warn(\n",
      "C:\\Users\\coolz\\anaconda3\\lib\\site-packages\\bs4\\__init__.py:431: MarkupResemblesLocatorWarning: \"http://www.youtube.com/watch?v=szriytnwbfc&list=uutj4atedkibllwarijz6bnq&index=1&feature=plcp\" looks like a URL. Beautiful Soup is not an HTTP client. You should probably use an HTTP client like requests to get the document behind the URL, and feed that document to Beautiful Soup.\n",
      "  warnings.warn(\n"
     ]
    }
   ],
   "source": [
    "data['preprocess'] = data['Review'].apply(lambda x: \" \".join(x.lower() for x in str(x).split()))\n",
    "data['preprocess']=data['preprocess'].apply(lambda x: BeautifulSoup(x).get_text())\n",
    "data['preprocess']=data['preprocess'].apply(lambda x: re.sub(r\"http\\S+\", \"\", x))\n",
    "data['preprocess']=data['preprocess'].apply(lambda x: \"\".join([re.sub('[^A-Za-z]+','', x) for x in nltk.word_tokenize(x)]))\n",
    "data['preprocess']=data['preprocess'].apply(lambda x: \" \".join([x for x in x.split() if x not in stop]))"
   ]
  },
  {
   "cell_type": "code",
   "execution_count": 26,
   "id": "a3c3fb2e",
   "metadata": {},
   "outputs": [
    {
     "name": "stdout",
     "output_type": "stream",
     "text": [
      "Train: (135000,) (135000,) Test:  ((45000,), (45000,))\n"
     ]
    }
   ],
   "source": [
    "X_train,X_test,Y_train, Y_test = train_test_split(data['preprocess'], data['label'], test_size=0.25, random_state=30)\n",
    "print(\"Train:\",X_train.shape,Y_train.shape,\"Test: \",(X_test.shape,Y_test.shape))"
   ]
  },
  {
   "cell_type": "code",
   "execution_count": 27,
   "id": "30b3ddcb",
   "metadata": {},
   "outputs": [],
   "source": [
    "vectorizer = TfidfVectorizer()\n",
    "tf_x_train = vectorizer.fit_transform(X_train)\n",
    "tf_x_test = vectorizer.transform(X_test)"
   ]
  },
  {
   "cell_type": "code",
   "execution_count": 37,
   "id": "b7875a99",
   "metadata": {},
   "outputs": [],
   "source": [
    "classifier = LinearSVC(random_state=58, max_iter=100)"
   ]
  },
  {
   "cell_type": "code",
   "execution_count": 38,
   "id": "3446f0cf",
   "metadata": {},
   "outputs": [
    {
     "data": {
      "text/plain": [
       "LinearSVC(max_iter=100, random_state=58)"
      ]
     },
     "execution_count": 38,
     "metadata": {},
     "output_type": "execute_result"
    }
   ],
   "source": [
    "classifier.fit(tf_x_train,Y_train)"
   ]
  },
  {
   "cell_type": "code",
   "execution_count": 39,
   "id": "061929f9",
   "metadata": {},
   "outputs": [],
   "source": [
    "y_test_pred = classifier.predict(tf_x_test)"
   ]
  },
  {
   "cell_type": "code",
   "execution_count": 40,
   "id": "d64cb813",
   "metadata": {
    "scrolled": true
   },
   "outputs": [
    {
     "name": "stdout",
     "output_type": "stream",
     "text": [
      "              precision    recall  f1-score   support\n",
      "\n",
      "           0       0.87      0.13      0.23      7470\n",
      "           1       0.85      1.00      0.92     37530\n",
      "\n",
      "    accuracy                           0.85     45000\n",
      "   macro avg       0.86      0.56      0.57     45000\n",
      "weighted avg       0.85      0.85      0.80     45000\n",
      "\n"
     ]
    }
   ],
   "source": [
    "report = classification_report(Y_test, y_test_pred)\n",
    "print (report)"
   ]
  },
  {
   "cell_type": "code",
   "execution_count": 41,
   "id": "89e9235b",
   "metadata": {},
   "outputs": [
    {
     "data": {
      "text/plain": [
       "0.5642133682612143"
      ]
     },
     "execution_count": 41,
     "metadata": {},
     "output_type": "execute_result"
    }
   ],
   "source": [
    "from sklearn.metrics import roc_auc_score\n",
    "roc_auc_score(Y_test, y_test_pred)"
   ]
  },
  {
   "cell_type": "code",
   "execution_count": null,
   "id": "d74c7aa4",
   "metadata": {},
   "outputs": [],
   "source": []
  },
  {
   "cell_type": "code",
   "execution_count": null,
   "id": "284cc359",
   "metadata": {},
   "outputs": [],
   "source": []
  }
 ],
 "metadata": {
  "kernelspec": {
   "display_name": "Python 3 (ipykernel)",
   "language": "python",
   "name": "python3"
  },
  "language_info": {
   "codemirror_mode": {
    "name": "ipython",
    "version": 3
   },
   "file_extension": ".py",
   "mimetype": "text/x-python",
   "name": "python",
   "nbconvert_exporter": "python",
   "pygments_lexer": "ipython3",
   "version": "3.9.7"
  }
 },
 "nbformat": 4,
 "nbformat_minor": 5
}
