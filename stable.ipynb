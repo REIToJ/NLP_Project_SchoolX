{
 "cells": [
  {
   "cell_type": "code",
   "execution_count": 1,
   "id": "30e47de3",
   "metadata": {},
   "outputs": [
    {
     "name": "stdout",
     "output_type": "stream",
     "text": [
      "Requirement already satisfied: imblearn in c:\\users\\coolz\\anaconda3\\lib\\site-packages (0.0)\n",
      "Requirement already satisfied: imbalanced-learn in c:\\users\\coolz\\anaconda3\\lib\\site-packages (from imblearn) (0.8.1)\n",
      "Requirement already satisfied: joblib>=0.11 in c:\\users\\coolz\\anaconda3\\lib\\site-packages (from imbalanced-learn->imblearn) (1.1.0)\n",
      "Requirement already satisfied: numpy>=1.13.3 in c:\\users\\coolz\\anaconda3\\lib\\site-packages (from imbalanced-learn->imblearn) (1.20.3)\n",
      "Requirement already satisfied: scipy>=0.19.1 in c:\\users\\coolz\\anaconda3\\lib\\site-packages (from imbalanced-learn->imblearn) (1.7.1)\n",
      "Requirement already satisfied: scikit-learn>=0.24 in c:\\users\\coolz\\anaconda3\\lib\\site-packages (from imbalanced-learn->imblearn) (0.24.2)\n",
      "Requirement already satisfied: threadpoolctl>=2.0.0 in c:\\users\\coolz\\anaconda3\\lib\\site-packages (from scikit-learn>=0.24->imbalanced-learn->imblearn) (2.2.0)\n",
      "Note: you may need to restart the kernel to use updated packages.\n"
     ]
    }
   ],
   "source": [
    "pip install imblearn"
   ]
  },
  {
   "cell_type": "code",
   "execution_count": 2,
   "id": "ce3c7bad",
   "metadata": {
    "colab": {
     "base_uri": "https://localhost:8080/",
     "height": 1000
    },
    "id": "ce3c7bad",
    "outputId": "86463c7b-89ac-4ac6-a96c-069af41953ab"
   },
   "outputs": [],
   "source": [
    "import pandas as pd\n",
    "import numpy as np\n",
    "import nltk\n",
    "import re\n",
    "from bs4 import BeautifulSoup\n",
    "from nltk.corpus import stopwords\n",
    "stop = stopwords.words('russian')\n",
    "from sklearn.model_selection import train_test_split\n",
    "from sklearn.feature_extraction.text import TfidfVectorizer\n",
    "from sklearn.svm import LinearSVC\n",
    "from sklearn.metrics import classification_report\n",
    "from sklearn.metrics import confusion_matrix\n",
    "from collections import Counter\n",
    "from imblearn.datasets import fetch_datasets\n",
    "from sklearn.pipeline import make_pipeline\n",
    "from imblearn.pipeline import make_pipeline as make_pipeline_imb\n",
    "from imblearn.over_sampling import SMOTE\n",
    "from imblearn.under_sampling import NearMiss\n",
    "from imblearn.metrics import classification_report_imbalanced\n",
    "from sklearn.metrics import precision_score, recall_score, f1_score, roc_auc_score, accuracy_score, classification_report\n",
    "from sklearn.ensemble import RandomForestClassifier"
   ]
  },
  {
   "cell_type": "code",
   "execution_count": 3,
   "id": "V0XRLq-qPBqP",
   "metadata": {
    "id": "V0XRLq-qPBqP"
   },
   "outputs": [],
   "source": [
    "def print_results(headline, true_value, pred):\n",
    "    print(headline)\n",
    "    print(\"accuracy: {}\".format(accuracy_score(true_value, pred)))\n",
    "    print(\"precision: {}\".format(precision_score(true_value, pred)))\n",
    "    print(\"recall: {}\".format(recall_score(true_value, pred)))\n",
    "    print(\"f1: {}\".format(f1_score(true_value, pred)))"
   ]
  },
  {
   "cell_type": "code",
   "execution_count": 4,
   "id": "288db950",
   "metadata": {
    "id": "288db950"
   },
   "outputs": [],
   "source": [
    "df =  pd.read_csv(r\"C:\\Users\\coolz\\assignments\\data.csv\", names = ['Review', 'Rating'], sep=',', dtype = {\"Review\": str, 'Rating': 'int32'})\n",
    "df = df.dropna(axis=0)\n",
    "np.random.seed(42)\n",
    "df = df.drop_duplicates(subset=['Review', 'Rating'], keep=False)\n",
    "df = df.reset_index(drop=True)"
   ]
  },
  {
   "cell_type": "code",
   "execution_count": 5,
   "id": "d285068a",
   "metadata": {
    "id": "d285068a"
   },
   "outputs": [],
   "source": [
    "df['Rating']=df['Rating'].astype(int)\n",
    "df=df[df['Rating']!=3]\n",
    "df['label']=np.where(df['Rating']>=3,1,0)"
   ]
  },
  {
   "cell_type": "code",
   "execution_count": 6,
   "id": "01b939d4",
   "metadata": {
    "id": "01b939d4",
    "outputId": "8497062d-1921-4755-b5b8-21411979fc7e"
   },
   "outputs": [
    {
     "data": {
      "text/plain": [
       "5    107885\n",
       "4     50785\n",
       "2     16121\n",
       "1     15511\n",
       "Name: Rating, dtype: int64"
      ]
     },
     "execution_count": 6,
     "metadata": {},
     "output_type": "execute_result"
    }
   ],
   "source": [
    "df['Rating'].value_counts()"
   ]
  },
  {
   "cell_type": "code",
   "execution_count": 195,
   "id": "b2bf08ec",
   "metadata": {
    "id": "b2bf08ec",
    "outputId": "86baf565-2403-49ba-a368-a506edce349e"
   },
   "outputs": [
    {
     "data": {
      "text/plain": [
       "1    150000\n",
       "0     30000\n",
       "Name: label, dtype: int64"
      ]
     },
     "metadata": {},
     "output_type": "display_data"
    },
    {
     "data": {
      "text/html": [
       "<div>\n",
       "<style scoped>\n",
       "    .dataframe tbody tr th:only-of-type {\n",
       "        vertical-align: middle;\n",
       "    }\n",
       "\n",
       "    .dataframe tbody tr th {\n",
       "        vertical-align: top;\n",
       "    }\n",
       "\n",
       "    .dataframe thead th {\n",
       "        text-align: right;\n",
       "    }\n",
       "</style>\n",
       "<table border=\"1\" class=\"dataframe\">\n",
       "  <thead>\n",
       "    <tr style=\"text-align: right;\">\n",
       "      <th></th>\n",
       "      <th>Review</th>\n",
       "      <th>Rating</th>\n",
       "      <th>label</th>\n",
       "    </tr>\n",
       "  </thead>\n",
       "  <tbody>\n",
       "    <tr>\n",
       "      <th>0</th>\n",
       "      <td>1500 грн в урну!</td>\n",
       "      <td>1</td>\n",
       "      <td>0</td>\n",
       "    </tr>\n",
       "    <tr>\n",
       "      <th>1</th>\n",
       "      <td>Так получилось, что телефон купила мне компани...</td>\n",
       "      <td>1</td>\n",
       "      <td>0</td>\n",
       "    </tr>\n",
       "    <tr>\n",
       "      <th>2</th>\n",
       "      <td>Если терпеливо относиться к периодическим зави...</td>\n",
       "      <td>2</td>\n",
       "      <td>0</td>\n",
       "    </tr>\n",
       "    <tr>\n",
       "      <th>3</th>\n",
       "      <td>Купил, т. к. нужны были обязательно 2 симки. Р...</td>\n",
       "      <td>1</td>\n",
       "      <td>0</td>\n",
       "    </tr>\n",
       "    <tr>\n",
       "      <th>4</th>\n",
       "      <td>телефон был куплен в январе так за эти полгода...</td>\n",
       "      <td>1</td>\n",
       "      <td>0</td>\n",
       "    </tr>\n",
       "    <tr>\n",
       "      <th>...</th>\n",
       "      <td>...</td>\n",
       "      <td>...</td>\n",
       "      <td>...</td>\n",
       "    </tr>\n",
       "    <tr>\n",
       "      <th>179995</th>\n",
       "      <td>Хороший телефон, нареканий не вызывает, корпус...</td>\n",
       "      <td>5</td>\n",
       "      <td>1</td>\n",
       "    </tr>\n",
       "    <tr>\n",
       "      <th>179996</th>\n",
       "      <td>звездолет )))</td>\n",
       "      <td>5</td>\n",
       "      <td>1</td>\n",
       "    </tr>\n",
       "    <tr>\n",
       "      <th>179997</th>\n",
       "      <td>Очень доволен покупкой . Долго выбирал что куп...</td>\n",
       "      <td>5</td>\n",
       "      <td>1</td>\n",
       "    </tr>\n",
       "    <tr>\n",
       "      <th>179998</th>\n",
       "      <td>я доплачу 250 рублей, пойду в днс и куплю bq m...</td>\n",
       "      <td>5</td>\n",
       "      <td>1</td>\n",
       "    </tr>\n",
       "    <tr>\n",
       "      <th>179999</th>\n",
       "      <td>Купила такой телефон маме. Выбирала самый прос...</td>\n",
       "      <td>4</td>\n",
       "      <td>1</td>\n",
       "    </tr>\n",
       "  </tbody>\n",
       "</table>\n",
       "<p>180000 rows × 3 columns</p>\n",
       "</div>"
      ],
      "text/plain": [
       "                                                   Review  Rating  label\n",
       "0                                        1500 грн в урну!       1      0\n",
       "1       Так получилось, что телефон купила мне компани...       1      0\n",
       "2       Если терпеливо относиться к периодическим зави...       2      0\n",
       "3       Купил, т. к. нужны были обязательно 2 симки. Р...       1      0\n",
       "4       телефон был куплен в январе так за эти полгода...       1      0\n",
       "...                                                   ...     ...    ...\n",
       "179995  Хороший телефон, нареканий не вызывает, корпус...       5      1\n",
       "179996                                      звездолет )))       5      1\n",
       "179997  Очень доволен покупкой . Долго выбирал что куп...       5      1\n",
       "179998  я доплачу 250 рублей, пойду в днс и куплю bq m...       5      1\n",
       "179999  Купила такой телефон маме. Выбирала самый прос...       4      1\n",
       "\n",
       "[180000 rows x 3 columns]"
      ]
     },
     "execution_count": 195,
     "metadata": {},
     "output_type": "execute_result"
    }
   ],
   "source": [
    "df = df.sample(frac=1).reset_index(drop=True) #shuffle\n",
    "data = df[df['label']==0][:30000]\n",
    "data = data.append(df[df['label']==1][:150000])\n",
    "data = data.reset_index(drop=True)\n",
    "display(data['label'].value_counts())\n",
    "data"
   ]
  },
  {
   "cell_type": "code",
   "execution_count": 196,
   "id": "98f6ef22",
   "metadata": {
    "id": "98f6ef22",
    "outputId": "5dbabc27-36d5-44d7-f08b-1a38cf97330a"
   },
   "outputs": [
    {
     "name": "stderr",
     "output_type": "stream",
     "text": [
      "C:\\Users\\coolz\\AppData\\Local\\Temp/ipykernel_11864/3778976711.py:4: FutureWarning: The default value of regex will change from True to False in a future version.\n",
      "  data[\"preprocess\"] = data['preprocess'].str.replace('[^\\w\\s]','')\n"
     ]
    },
    {
     "data": {
      "text/html": [
       "<div>\n",
       "<style scoped>\n",
       "    .dataframe tbody tr th:only-of-type {\n",
       "        vertical-align: middle;\n",
       "    }\n",
       "\n",
       "    .dataframe tbody tr th {\n",
       "        vertical-align: top;\n",
       "    }\n",
       "\n",
       "    .dataframe thead th {\n",
       "        text-align: right;\n",
       "    }\n",
       "</style>\n",
       "<table border=\"1\" class=\"dataframe\">\n",
       "  <thead>\n",
       "    <tr style=\"text-align: right;\">\n",
       "      <th></th>\n",
       "      <th>Review</th>\n",
       "      <th>Rating</th>\n",
       "      <th>label</th>\n",
       "      <th>preprocess</th>\n",
       "    </tr>\n",
       "  </thead>\n",
       "  <tbody>\n",
       "    <tr>\n",
       "      <th>0</th>\n",
       "      <td>1500 грн в урну!</td>\n",
       "      <td>1</td>\n",
       "      <td>0</td>\n",
       "      <td>1500 грн урну</td>\n",
       "    </tr>\n",
       "    <tr>\n",
       "      <th>1</th>\n",
       "      <td>Так получилось, что телефон купила мне компани...</td>\n",
       "      <td>1</td>\n",
       "      <td>0</td>\n",
       "      <td>получилось телефон купила компания рабочий без...</td>\n",
       "    </tr>\n",
       "    <tr>\n",
       "      <th>2</th>\n",
       "      <td>Если терпеливо относиться к периодическим зави...</td>\n",
       "      <td>2</td>\n",
       "      <td>0</td>\n",
       "      <td>терпеливо относиться периодическим зависаниям ...</td>\n",
       "    </tr>\n",
       "    <tr>\n",
       "      <th>3</th>\n",
       "      <td>Купил, т. к. нужны были обязательно 2 симки. Р...</td>\n",
       "      <td>1</td>\n",
       "      <td>0</td>\n",
       "      <td>купил т нужны обязательно 2 симки 15 хотел раз...</td>\n",
       "    </tr>\n",
       "    <tr>\n",
       "      <th>4</th>\n",
       "      <td>телефон был куплен в январе так за эти полгода...</td>\n",
       "      <td>1</td>\n",
       "      <td>0</td>\n",
       "      <td>телефон куплен январе полгода вылетело 2 кнопк...</td>\n",
       "    </tr>\n",
       "    <tr>\n",
       "      <th>...</th>\n",
       "      <td>...</td>\n",
       "      <td>...</td>\n",
       "      <td>...</td>\n",
       "      <td>...</td>\n",
       "    </tr>\n",
       "    <tr>\n",
       "      <th>179995</th>\n",
       "      <td>Хороший телефон, нареканий не вызывает, корпус...</td>\n",
       "      <td>5</td>\n",
       "      <td>1</td>\n",
       "      <td>хороший телефон нареканий вызывает корпус крыш...</td>\n",
       "    </tr>\n",
       "    <tr>\n",
       "      <th>179996</th>\n",
       "      <td>звездолет )))</td>\n",
       "      <td>5</td>\n",
       "      <td>1</td>\n",
       "      <td>звездолет</td>\n",
       "    </tr>\n",
       "    <tr>\n",
       "      <th>179997</th>\n",
       "      <td>Очень доволен покупкой . Долго выбирал что куп...</td>\n",
       "      <td>5</td>\n",
       "      <td>1</td>\n",
       "      <td>очень доволен покупкой долго выбирал купить хо...</td>\n",
       "    </tr>\n",
       "    <tr>\n",
       "      <th>179998</th>\n",
       "      <td>я доплачу 250 рублей, пойду в днс и куплю bq m...</td>\n",
       "      <td>5</td>\n",
       "      <td>1</td>\n",
       "      <td>доплачу 250 рублей пойду днс куплю bq magic</td>\n",
       "    </tr>\n",
       "    <tr>\n",
       "      <th>179999</th>\n",
       "      <td>Купила такой телефон маме. Выбирала самый прос...</td>\n",
       "      <td>4</td>\n",
       "      <td>1</td>\n",
       "      <td>купила телефон маме выбирала самый простой это...</td>\n",
       "    </tr>\n",
       "  </tbody>\n",
       "</table>\n",
       "<p>180000 rows × 4 columns</p>\n",
       "</div>"
      ],
      "text/plain": [
       "                                                   Review  Rating  label  \\\n",
       "0                                        1500 грн в урну!       1      0   \n",
       "1       Так получилось, что телефон купила мне компани...       1      0   \n",
       "2       Если терпеливо относиться к периодическим зави...       2      0   \n",
       "3       Купил, т. к. нужны были обязательно 2 симки. Р...       1      0   \n",
       "4       телефон был куплен в январе так за эти полгода...       1      0   \n",
       "...                                                   ...     ...    ...   \n",
       "179995  Хороший телефон, нареканий не вызывает, корпус...       5      1   \n",
       "179996                                      звездолет )))       5      1   \n",
       "179997  Очень доволен покупкой . Долго выбирал что куп...       5      1   \n",
       "179998  я доплачу 250 рублей, пойду в днс и куплю bq m...       5      1   \n",
       "179999  Купила такой телефон маме. Выбирала самый прос...       4      1   \n",
       "\n",
       "                                               preprocess  \n",
       "0                                           1500 грн урну  \n",
       "1       получилось телефон купила компания рабочий без...  \n",
       "2       терпеливо относиться периодическим зависаниям ...  \n",
       "3       купил т нужны обязательно 2 симки 15 хотел раз...  \n",
       "4       телефон куплен январе полгода вылетело 2 кнопк...  \n",
       "...                                                   ...  \n",
       "179995  хороший телефон нареканий вызывает корпус крыш...  \n",
       "179996                                          звездолет  \n",
       "179997  очень доволен покупкой долго выбирал купить хо...  \n",
       "179998        доплачу 250 рублей пойду днс куплю bq magic  \n",
       "179999  купила телефон маме выбирала самый простой это...  \n",
       "\n",
       "[180000 rows x 4 columns]"
      ]
     },
     "execution_count": 196,
     "metadata": {},
     "output_type": "execute_result"
    }
   ],
   "source": [
    "data['preprocess'] = data['Review'].apply(lambda x: \" \".join(x.lower() for x in str(x).split()))\n",
    "#data['preprocess'] = data['preprocess'].apply(lambda x: BeautifulSoup(x).get_text())\n",
    "data['preprocess'] = data['preprocess'].apply(lambda x: re.sub(r\"http\\S+\", \"\", x))\n",
    "data[\"preprocess\"] = data['preprocess'].str.replace('[^\\w\\s]','')\n",
    "#data['preprocess'] = data['preprocess'].apply(lambda x: \"\".join([re.sub('[^A-Za-z]+','', x) for x in nltk.word_tokenize(x)]))\n",
    "data['preprocess'] = data['preprocess'].apply(lambda x: \" \".join([x for x in x.split() if x not in stop]))\n",
    "data"
   ]
  },
  {
   "cell_type": "code",
   "execution_count": 197,
   "id": "a3c3fb2e",
   "metadata": {
    "id": "a3c3fb2e",
    "outputId": "f27fa093-856b-49ff-9f49-a9645e2d6cc5",
    "scrolled": true
   },
   "outputs": [
    {
     "name": "stdout",
     "output_type": "stream",
     "text": [
      "Train: (144000,) (144000,) Test:  ((36000,), (36000,))\n"
     ]
    }
   ],
   "source": [
    "X_train,X_test,Y_train, Y_test = train_test_split(data['preprocess'], data['label'], test_size = 0.2, random_state = 142)\n",
    "print(\"Train:\",X_train.shape,Y_train.shape,\"Test: \",(X_test.shape,Y_test.shape))"
   ]
  },
  {
   "cell_type": "code",
   "execution_count": 198,
   "id": "30b3ddcb",
   "metadata": {
    "id": "30b3ddcb"
   },
   "outputs": [],
   "source": [
    "vectorizer = TfidfVectorizer(dtype = np.float32)\n",
    "vectorizer.fit(X_train.values.ravel())\n",
    "tf_x_train = vectorizer.transform(X_train.values.ravel())\n",
    "tf_x_test = vectorizer.transform(X_test.values.ravel())\n",
    "#tf_x_train = tf_x_train.toarray()\n",
    "#tf_x_test = tf_x_test.toarray()"
   ]
  },
  {
   "cell_type": "code",
   "execution_count": 199,
   "id": "1ab99d6c",
   "metadata": {},
   "outputs": [
    {
     "name": "stdout",
     "output_type": "stream",
     "text": [
      "<class 'pandas.core.frame.DataFrame'>\n",
      "RangeIndex: 180000 entries, 0 to 179999\n",
      "Data columns (total 4 columns):\n",
      " #   Column      Non-Null Count   Dtype \n",
      "---  ------      --------------   ----- \n",
      " 0   Review      180000 non-null  object\n",
      " 1   Rating      180000 non-null  int32 \n",
      " 2   label       180000 non-null  int32 \n",
      " 3   preprocess  180000 non-null  object\n",
      "dtypes: int32(2), object(2)\n",
      "memory usage: 485.0 MB\n"
     ]
    }
   ],
   "source": [
    "data.info(memory_usage='deep')"
   ]
  },
  {
   "cell_type": "code",
   "execution_count": 200,
   "id": "677be8a2",
   "metadata": {},
   "outputs": [],
   "source": [
    "classifier = LinearSVC(random_state=9742)\n",
    "#classifier = RandomForestClassifier"
   ]
  },
  {
   "cell_type": "code",
   "execution_count": 201,
   "id": "ab7808ab",
   "metadata": {},
   "outputs": [],
   "source": [
    "# build normal model with vectorizer\n",
    "vectorized_normal_pipeline = make_pipeline(LinearSVC(random_state=4792))\n",
    "vectorized_normal_model = vectorized_normal_pipeline.fit(tf_x_train, Y_train)\n",
    "vectorized_normal_prediction = vectorized_normal_model.predict(tf_x_test)"
   ]
  },
  {
   "cell_type": "code",
   "execution_count": 202,
   "id": "qxsHqUM5OWZ4",
   "metadata": {
    "id": "qxsHqUM5OWZ4"
   },
   "outputs": [],
   "source": [
    "# build model with SMOTE imblearn\n",
    "smote_pipeline = make_pipeline_imb(SMOTE(random_state=42, k_neighbors = 5, n_jobs = 8), LinearSVC(random_state=1242))\n",
    "smote_model = smote_pipeline.fit(tf_x_train, Y_train)\n",
    "smote_prediction = smote_model.predict(tf_x_test)"
   ]
  },
  {
   "cell_type": "code",
   "execution_count": 203,
   "id": "b7875a99",
   "metadata": {
    "id": "b7875a99",
    "scrolled": true
   },
   "outputs": [
    {
     "name": "stdout",
     "output_type": "stream",
     "text": [
      "normal data distribution: Counter({1: 150000, 0: 30000})\n",
      "SMOTE data distribution: Counter({1: 119962, 0: 119962})\n"
     ]
    }
   ],
   "source": [
    "# print information about both models\n",
    "print(\"normal data distribution: {}\".format(Counter(data['label'])))\n",
    "X_smote, y_smote = SMOTE().fit_resample(tf_x_train, Y_train) #ругается на то что тут буквавки а не циферки, надо заранее векторизировать\n",
    "print(\"SMOTE data distribution: {}\".format(Counter(y_smote)))\n",
    "#X_nearmiss, y_nearmiss = NearMiss().fit_sample(data['data'], data['target'])\n",
    "#print(\"NearMiss data distribution: {}\".format(Counter(y_nearmiss)))"
   ]
  },
  {
   "cell_type": "code",
   "execution_count": 204,
   "id": "3fc828fb",
   "metadata": {},
   "outputs": [],
   "source": [
    "#from sklearn.linear_model import LogisticRegression"
   ]
  },
  {
   "cell_type": "code",
   "execution_count": 205,
   "id": "-e2JZPr1OXxF",
   "metadata": {
    "id": "-e2JZPr1OXxF",
    "scrolled": true
   },
   "outputs": [],
   "source": [
    "# build model with undersampling\n",
    "#nr = NearMiss()\n",
    "#X_train_miss, y_train_miss = nr.fit_resample(tf_x_train,Y_train.ravel())\n",
    "#lr2 = LogisticRegression()\n",
    "#lr2.fit(X_train_miss, y_train_miss.ravel())\n",
    "#nearmiss_prediction = lr2.predict(tf_x_test)"
   ]
  },
  {
   "cell_type": "code",
   "execution_count": 206,
   "id": "3446f0cf",
   "metadata": {
    "id": "3446f0cf",
    "outputId": "976ce3b3-e5d7-49d2-f69b-0f0adc5911aa",
    "scrolled": true
   },
   "outputs": [
    {
     "name": "stdout",
     "output_type": "stream",
     "text": [
      "              precision    recall  f1-score   support\n",
      "\n",
      "           0       0.86      0.74      0.79      5962\n",
      "           1       0.95      0.98      0.96     30038\n",
      "\n",
      "    accuracy                           0.94     36000\n",
      "   macro avg       0.90      0.86      0.88     36000\n",
      "weighted avg       0.93      0.94      0.93     36000\n",
      "\n",
      "                   pre       rec       spe        f1       geo       iba       sup\n",
      "\n",
      "          0       0.68      0.84      0.92      0.75      0.88      0.77      5962\n",
      "          1       0.97      0.92      0.84      0.94      0.88      0.78     30038\n",
      "\n",
      "avg / total       0.92      0.91      0.85      0.91      0.88      0.78     36000\n",
      "\n"
     ]
    }
   ],
   "source": [
    "# classification report\n",
    "print(classification_report(Y_test, vectorized_normal_prediction))\n",
    "print(classification_report_imbalanced(Y_test, smote_prediction))"
   ]
  },
  {
   "cell_type": "code",
   "execution_count": 207,
   "id": "061929f9",
   "metadata": {
    "id": "061929f9"
   },
   "outputs": [
    {
     "name": "stdout",
     "output_type": "stream",
     "text": [
      "vectorized_normal Pipline Score 0.9362777777777778\n",
      "SMOTE Pipeline Score 0.909\n"
     ]
    }
   ],
   "source": [
    "print('vectorized_normal Pipline Score {}'.format(vectorized_normal_pipeline.score(tf_x_test, Y_test)))\n",
    "print('SMOTE Pipeline Score {}'.format(smote_pipeline.score(tf_x_test, Y_test)))\n",
    "#print('NearMiss Pipeline Score {}'.format(nearmiss_pipeline.score(tf_x_test, Y_test)))"
   ]
  },
  {
   "cell_type": "code",
   "execution_count": 208,
   "id": "d64cb813",
   "metadata": {
    "id": "d64cb813",
    "outputId": "e60e3936-7bf1-426f-bee8-5a3afcda72c3",
    "scrolled": true
   },
   "outputs": [
    {
     "name": "stdout",
     "output_type": "stream",
     "text": [
      "vectorized normal classification\n",
      "accuracy: 0.9362777777777778\n",
      "precision: 0.9497762790999287\n",
      "recall: 0.9751980824289234\n",
      "f1: 0.9623193166885677\n",
      "SMOTE classification\n",
      "accuracy: 0.909\n",
      "precision: 0.9660420730008359\n",
      "recall: 0.9233970304281244\n",
      "f1: 0.9442382978723404\n"
     ]
    }
   ],
   "source": [
    "print_results(\"vectorized normal classification\", Y_test, vectorized_normal_prediction)\n",
    "print_results(\"SMOTE classification\", Y_test, smote_prediction)\n",
    "#print_results(\"NearMiss classification\", Y_test, nearmiss_prediction)"
   ]
  },
  {
   "cell_type": "code",
   "execution_count": 209,
   "id": "89e9235b",
   "metadata": {
    "id": "89e9235b",
    "outputId": "63a4ad18-c189-43bc-9809-795d176f90f5"
   },
   "outputs": [
    {
     "data": {
      "text/plain": [
       "0.8799306520808854"
      ]
     },
     "execution_count": 209,
     "metadata": {},
     "output_type": "execute_result"
    }
   ],
   "source": [
    "roc_auc_score(Y_test, smote_prediction)"
   ]
  },
  {
   "cell_type": "code",
   "execution_count": 210,
   "id": "d74c7aa4",
   "metadata": {
    "id": "d74c7aa4"
   },
   "outputs": [
    {
     "data": {
      "text/plain": [
       "0.857692969426471"
      ]
     },
     "execution_count": 210,
     "metadata": {},
     "output_type": "execute_result"
    }
   ],
   "source": [
    "roc_auc_score(Y_test, vectorized_normal_prediction)"
   ]
  },
  {
   "cell_type": "code",
   "execution_count": null,
   "id": "093f8610",
   "metadata": {},
   "outputs": [],
   "source": []
  },
  {
   "cell_type": "code",
   "execution_count": null,
   "id": "387bef96",
   "metadata": {},
   "outputs": [],
   "source": []
  }
 ],
 "metadata": {
  "colab": {
   "name": "smth3.ipynb",
   "provenance": []
  },
  "kernelspec": {
   "display_name": "Python 3 (ipykernel)",
   "language": "python",
   "name": "python3"
  },
  "language_info": {
   "codemirror_mode": {
    "name": "ipython",
    "version": 3
   },
   "file_extension": ".py",
   "mimetype": "text/x-python",
   "name": "python",
   "nbconvert_exporter": "python",
   "pygments_lexer": "ipython3",
   "version": "3.9.7"
  }
 },
 "nbformat": 4,
 "nbformat_minor": 5
}
