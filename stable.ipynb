{
 "cells": [
  {
   "cell_type": "code",
   "execution_count": 1,
   "id": "ce3c7bad",
   "metadata": {
    "colab": {
     "base_uri": "https://localhost:8080/",
     "height": 1000
    },
    "id": "ce3c7bad",
    "outputId": "86463c7b-89ac-4ac6-a96c-069af41953ab"
   },
   "outputs": [],
   "source": [
    "import pandas as pd\n",
    "import numpy as np\n",
    "import nltk\n",
    "import re\n",
    "from nltk.corpus import stopwords\n",
    "stop = stopwords.words('russian')\n",
    "from sklearn.model_selection import train_test_split\n",
    "from sklearn.feature_extraction.text import TfidfVectorizer\n",
    "from sklearn.svm import LinearSVC\n",
    "from sklearn.calibration import CalibratedClassifierCV\n",
    "from sklearn.metrics import classification_report\n",
    "from sklearn.metrics import confusion_matrix\n",
    "from collections import Counter\n",
    "from imblearn.datasets import fetch_datasets\n",
    "from sklearn.pipeline import make_pipeline\n",
    "from imblearn.pipeline import make_pipeline as make_pipeline_imb\n",
    "from imblearn.over_sampling import SMOTE\n",
    "from imblearn.under_sampling import NearMiss\n",
    "from imblearn.metrics import classification_report_imbalanced\n",
    "from sklearn.metrics import precision_score, recall_score, f1_score, roc_auc_score, accuracy_score, classification_report\n",
    "import ipywidgets as widgets"
   ]
  },
  {
   "cell_type": "code",
   "execution_count": 2,
   "id": "V0XRLq-qPBqP",
   "metadata": {
    "id": "V0XRLq-qPBqP"
   },
   "outputs": [],
   "source": [
    "def print_results(headline, true_value, pred):\n",
    "    print(headline)\n",
    "    print(\"accuracy: {}\".format(accuracy_score(true_value, pred)))\n",
    "    print(\"precision: {}\".format(precision_score(true_value, pred)))\n",
    "    print(\"recall: {}\".format(recall_score(true_value, pred)))\n",
    "    print(\"f1: {}\".format(f1_score(true_value, pred)))"
   ]
  },
  {
   "cell_type": "code",
   "execution_count": 3,
   "id": "288db950",
   "metadata": {
    "id": "288db950"
   },
   "outputs": [],
   "source": [
    "df =  pd.read_csv(r\"C:\\Users\\coolz\\assignments\\data.csv\", names = ['Review', 'Rating'], sep=',', dtype = {\"Review\": str, 'Rating': 'int32'})\n",
    "df = df.dropna(axis=0)\n",
    "np.random.seed(42)\n",
    "df = df.drop_duplicates(subset=['Review', 'Rating'], keep=False)\n",
    "df = df.reset_index(drop=True)"
   ]
  },
  {
   "cell_type": "code",
   "execution_count": 4,
   "id": "d285068a",
   "metadata": {
    "id": "d285068a"
   },
   "outputs": [],
   "source": [
    "df['Rating']=df['Rating'].astype(int)\n",
    "df=df[df['Rating']!=3]\n",
    "df['label']=np.where(df['Rating']>=3,1,0)"
   ]
  },
  {
   "cell_type": "code",
   "execution_count": 5,
   "id": "01b939d4",
   "metadata": {
    "id": "01b939d4",
    "outputId": "8497062d-1921-4755-b5b8-21411979fc7e"
   },
   "outputs": [
    {
     "data": {
      "text/plain": [
       "5    107885\n",
       "4     50785\n",
       "2     16121\n",
       "1     15511\n",
       "Name: Rating, dtype: int64"
      ]
     },
     "execution_count": 5,
     "metadata": {},
     "output_type": "execute_result"
    }
   ],
   "source": [
    "df['Rating'].value_counts()"
   ]
  },
  {
   "cell_type": "code",
   "execution_count": 6,
   "id": "b2bf08ec",
   "metadata": {
    "id": "b2bf08ec",
    "outputId": "86baf565-2403-49ba-a368-a506edce349e"
   },
   "outputs": [
    {
     "data": {
      "text/plain": [
       "1    150000\n",
       "0     30000\n",
       "Name: label, dtype: int64"
      ]
     },
     "metadata": {},
     "output_type": "display_data"
    }
   ],
   "source": [
    "#take some amount of labels\n",
    "df = df.sample(frac=1).reset_index(drop=True) #shuffle\n",
    "data = df[df['label']==0][:30000]\n",
    "data = data.append(df[df['label']==1][:150000])\n",
    "data = data.reset_index(drop=True)\n",
    "display(data['label'].value_counts())"
   ]
  },
  {
   "cell_type": "code",
   "execution_count": 7,
   "id": "98f6ef22",
   "metadata": {
    "id": "98f6ef22",
    "outputId": "5dbabc27-36d5-44d7-f08b-1a38cf97330a"
   },
   "outputs": [
    {
     "name": "stderr",
     "output_type": "stream",
     "text": [
      "C:\\Users\\coolz\\AppData\\Local\\Temp/ipykernel_3704/3400656299.py:3: FutureWarning: The default value of regex will change from True to False in a future version.\n",
      "  data[\"preprocess\"] = data['preprocess'].str.replace('[^\\w\\s]','')\n"
     ]
    }
   ],
   "source": [
    "data['preprocess'] = data['Review'].apply(lambda x: \" \".join(x.lower() for x in str(x).split()))\n",
    "data['preprocess'] = data['preprocess'].apply(lambda x: re.sub(r\"http\\S+\", \"\", x))\n",
    "data[\"preprocess\"] = data['preprocess'].str.replace('[^\\w\\s]','')\n",
    "data['preprocess'] = data['preprocess'].apply(lambda x: \" \".join([x for x in x.split() if x not in stop]))"
   ]
  },
  {
   "cell_type": "code",
   "execution_count": 8,
   "id": "a3c3fb2e",
   "metadata": {
    "id": "a3c3fb2e",
    "outputId": "f27fa093-856b-49ff-9f49-a9645e2d6cc5",
    "scrolled": true
   },
   "outputs": [
    {
     "name": "stdout",
     "output_type": "stream",
     "text": [
      "Train: (144000,) (144000,) Test:  ((36000,), (36000,))\n"
     ]
    }
   ],
   "source": [
    "#making train/test split\n",
    "X_train,X_test,Y_train, Y_test = train_test_split(data['preprocess'], data['label'], test_size = 0.2, random_state = 142)\n",
    "print(\"Train:\",X_train.shape,Y_train.shape,\"Test: \",(X_test.shape,Y_test.shape))"
   ]
  },
  {
   "cell_type": "code",
   "execution_count": 9,
   "id": "30b3ddcb",
   "metadata": {
    "id": "30b3ddcb"
   },
   "outputs": [],
   "source": [
    "#choosing vectorizer\n",
    "vectorizer = TfidfVectorizer(dtype = np.float32)\n",
    "vectorizer.fit(X_train.values.ravel())\n",
    "tf_x_train = vectorizer.transform(X_train.values.ravel())\n",
    "tf_x_test = vectorizer.transform(X_test.values.ravel())"
   ]
  },
  {
   "cell_type": "code",
   "execution_count": 10,
   "id": "677be8a2",
   "metadata": {},
   "outputs": [],
   "source": [
    "#choosing classifier\n",
    "svm = LinearSVC(random_state=9742)\n",
    "сlassifier = CalibratedClassifierCV(svm) "
   ]
  },
  {
   "cell_type": "code",
   "execution_count": 11,
   "id": "ab7808ab",
   "metadata": {},
   "outputs": [],
   "source": [
    "# build normal model with vectorizer\n",
    "vectorized_normal_pipeline = make_pipeline(сlassifier)\n",
    "vectorized_normal_model = vectorized_normal_pipeline.fit(tf_x_train, Y_train)\n",
    "vectorized_normal_prediction = vectorized_normal_model.predict(tf_x_test)"
   ]
  },
  {
   "cell_type": "code",
   "execution_count": 12,
   "id": "qxsHqUM5OWZ4",
   "metadata": {
    "id": "qxsHqUM5OWZ4"
   },
   "outputs": [],
   "source": [
    "# build model with SMOTE imblearn\n",
    "smote_pipeline = make_pipeline_imb(SMOTE(random_state=42, k_neighbors = 5, n_jobs = 8), сlassifier)\n",
    "smote_model = smote_pipeline.fit(tf_x_train, Y_train)\n",
    "smote_prediction = smote_model.predict(tf_x_test)"
   ]
  },
  {
   "cell_type": "code",
   "execution_count": 13,
   "id": "b7875a99",
   "metadata": {
    "id": "b7875a99",
    "scrolled": true
   },
   "outputs": [
    {
     "name": "stdout",
     "output_type": "stream",
     "text": [
      "normal data distribution: Counter({1: 150000, 0: 30000})\n",
      "SMOTE data distribution: Counter({1: 119962, 0: 119962})\n"
     ]
    }
   ],
   "source": [
    "# print information about both models\n",
    "print(\"normal data distribution: {}\".format(Counter(data['label'])))\n",
    "X_smote, y_smote = SMOTE().fit_resample(tf_x_train, Y_train)\n",
    "print(\"SMOTE data distribution: {}\".format(Counter(y_smote)))"
   ]
  },
  {
   "cell_type": "code",
   "execution_count": 14,
   "id": "3446f0cf",
   "metadata": {
    "id": "3446f0cf",
    "outputId": "976ce3b3-e5d7-49d2-f69b-0f0adc5911aa",
    "scrolled": true
   },
   "outputs": [
    {
     "name": "stdout",
     "output_type": "stream",
     "text": [
      "              precision    recall  f1-score   support\n",
      "\n",
      "           0       0.85      0.75      0.80      5962\n",
      "           1       0.95      0.97      0.96     30038\n",
      "\n",
      "    accuracy                           0.94     36000\n",
      "   macro avg       0.90      0.86      0.88     36000\n",
      "weighted avg       0.93      0.94      0.94     36000\n",
      "\n",
      "                   pre       rec       spe        f1       geo       iba       sup\n",
      "\n",
      "          0       0.75      0.77      0.95      0.76      0.85      0.72      5962\n",
      "          1       0.95      0.95      0.77      0.95      0.85      0.74     30038\n",
      "\n",
      "avg / total       0.92      0.92      0.80      0.92      0.85      0.74     36000\n",
      "\n"
     ]
    }
   ],
   "source": [
    "# classification report\n",
    "print(classification_report(Y_test, vectorized_normal_prediction))\n",
    "print(classification_report_imbalanced(Y_test, smote_prediction))"
   ]
  },
  {
   "cell_type": "code",
   "execution_count": 15,
   "id": "061929f9",
   "metadata": {
    "id": "061929f9"
   },
   "outputs": [
    {
     "name": "stdout",
     "output_type": "stream",
     "text": [
      "vectorized_normal Pipline Score 0.9192222222222223\n",
      "SMOTE Pipeline Score 0.9192222222222223\n"
     ]
    }
   ],
   "source": [
    "print('vectorized_normal Pipline Score {}'.format(vectorized_normal_pipeline.score(tf_x_test, Y_test)))\n",
    "print('SMOTE Pipeline Score {}'.format(smote_pipeline.score(tf_x_test, Y_test)))"
   ]
  },
  {
   "cell_type": "code",
   "execution_count": 16,
   "id": "d64cb813",
   "metadata": {
    "id": "d64cb813",
    "outputId": "e60e3936-7bf1-426f-bee8-5a3afcda72c3",
    "scrolled": true
   },
   "outputs": [
    {
     "name": "stdout",
     "output_type": "stream",
     "text": [
      "vectorized normal classification\n",
      "accuracy: 0.9369166666666666\n",
      "precision: 0.9519221379512386\n",
      "recall: 0.9735668153672016\n",
      "f1: 0.9626228213104231\n",
      "SMOTE classification\n",
      "accuracy: 0.9192222222222223\n",
      "precision: 0.9538914541925986\n",
      "recall: 0.9490645182768493\n",
      "f1: 0.9514718643615246\n"
     ]
    }
   ],
   "source": [
    "print_results(\"vectorized normal classification\", Y_test, vectorized_normal_prediction)\n",
    "print_results(\"SMOTE classification\", Y_test, smote_prediction)"
   ]
  },
  {
   "cell_type": "code",
   "execution_count": 17,
   "id": "89e9235b",
   "metadata": {
    "id": "89e9235b",
    "outputId": "63a4ad18-c189-43bc-9809-795d176f90f5"
   },
   "outputs": [
    {
     "data": {
      "text/plain": [
       "0.8589670125768681"
      ]
     },
     "execution_count": 17,
     "metadata": {},
     "output_type": "execute_result"
    }
   ],
   "source": [
    "roc_auc_score(Y_test, smote_prediction)"
   ]
  },
  {
   "cell_type": "code",
   "execution_count": 18,
   "id": "d74c7aa4",
   "metadata": {
    "id": "d74c7aa4"
   },
   "outputs": [
    {
     "data": {
      "text/plain": [
       "0.862915578096214"
      ]
     },
     "execution_count": 18,
     "metadata": {},
     "output_type": "execute_result"
    }
   ],
   "source": [
    "roc_auc_score(Y_test, vectorized_normal_prediction)"
   ]
  },
  {
   "cell_type": "code",
   "execution_count": 35,
   "id": "58ec5d42",
   "metadata": {},
   "outputs": [
    {
     "data": {
      "application/vnd.jupyter.widget-view+json": {
       "model_id": "c0cec43dec5347aea6bc265e8433be78",
       "version_major": 2,
       "version_minor": 0
      },
      "text/plain": [
       "Text(value=' ', description='Отзыв:', placeholder='Введите отзыв')"
      ]
     },
     "metadata": {},
     "output_type": "display_data"
    }
   ],
   "source": [
    "user = widgets.Text(\n",
    "    value=' ',\n",
    "    placeholder='Введите отзыв',\n",
    "    description='Отзыв:',\n",
    "    disabled=False\n",
    ")\n",
    "display (user)\n",
    "custom_text = user.value"
   ]
  },
  {
   "cell_type": "code",
   "execution_count": 38,
   "id": "fa8c3fb5",
   "metadata": {},
   "outputs": [],
   "source": [
    "custom_text = [\"хороший телефон но греется\"]\n",
    "custom_text = vectorizer.transform(custom_text)"
   ]
  },
  {
   "cell_type": "code",
   "execution_count": 39,
   "id": "170e8a4f",
   "metadata": {},
   "outputs": [
    {
     "data": {
      "text/plain": [
       "array([[0.00192984, 0.99807016]])"
      ]
     },
     "execution_count": 39,
     "metadata": {},
     "output_type": "execute_result"
    }
   ],
   "source": [
    "vectorized_normal_model.predict_proba(custom_text)"
   ]
  },
  {
   "cell_type": "code",
   "execution_count": null,
   "id": "a0ecdd81",
   "metadata": {},
   "outputs": [],
   "source": []
  }
 ],
 "metadata": {
  "colab": {
   "name": "smth3.ipynb",
   "provenance": []
  },
  "kernelspec": {
   "display_name": "Python 3 (ipykernel)",
   "language": "python",
   "name": "python3"
  },
  "language_info": {
   "codemirror_mode": {
    "name": "ipython",
    "version": 3
   },
   "file_extension": ".py",
   "mimetype": "text/x-python",
   "name": "python",
   "nbconvert_exporter": "python",
   "pygments_lexer": "ipython3",
   "version": "3.9.7"
  }
 },
 "nbformat": 4,
 "nbformat_minor": 5
}
